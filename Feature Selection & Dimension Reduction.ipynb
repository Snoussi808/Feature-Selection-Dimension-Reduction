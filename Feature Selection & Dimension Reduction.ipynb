{
 "cells": [
  {
   "cell_type": "code",
   "execution_count": 1,
   "id": "d7c6df08-d6ad-46b9-b959-01e7b0e13bf0",
   "metadata": {},
   "outputs": [],
   "source": [
    "import pandas as pd\n",
    "import numpy as np\n",
    "from sklearn.model_selection import train_test_split\n",
    "from sklearn.metrics import classification_report\n",
    "from sklearn.tree import DecisionTreeClassifier\n",
    "import warnings\n",
    "warnings.filterwarnings('ignore')\n",
    "from sklearn.datasets import load_breast_cancer"
   ]
  },
  {
   "cell_type": "code",
   "execution_count": 2,
   "id": "0748e6a9-a723-44d2-96bb-ec34150cb94c",
   "metadata": {
    "scrolled": true
   },
   "outputs": [
    {
     "data": {
      "text/plain": [
       "{'data': array([[1.799e+01, 1.038e+01, 1.228e+02, ..., 2.654e-01, 4.601e-01,\n",
       "         1.189e-01],\n",
       "        [2.057e+01, 1.777e+01, 1.329e+02, ..., 1.860e-01, 2.750e-01,\n",
       "         8.902e-02],\n",
       "        [1.969e+01, 2.125e+01, 1.300e+02, ..., 2.430e-01, 3.613e-01,\n",
       "         8.758e-02],\n",
       "        ...,\n",
       "        [1.660e+01, 2.808e+01, 1.083e+02, ..., 1.418e-01, 2.218e-01,\n",
       "         7.820e-02],\n",
       "        [2.060e+01, 2.933e+01, 1.401e+02, ..., 2.650e-01, 4.087e-01,\n",
       "         1.240e-01],\n",
       "        [7.760e+00, 2.454e+01, 4.792e+01, ..., 0.000e+00, 2.871e-01,\n",
       "         7.039e-02]]),\n",
       " 'target': array([0, 0, 0, 0, 0, 0, 0, 0, 0, 0, 0, 0, 0, 0, 0, 0, 0, 0, 0, 1, 1, 1,\n",
       "        0, 0, 0, 0, 0, 0, 0, 0, 0, 0, 0, 0, 0, 0, 0, 1, 0, 0, 0, 0, 0, 0,\n",
       "        0, 0, 1, 0, 1, 1, 1, 1, 1, 0, 0, 1, 0, 0, 1, 1, 1, 1, 0, 1, 0, 0,\n",
       "        1, 1, 1, 1, 0, 1, 0, 0, 1, 0, 1, 0, 0, 1, 1, 1, 0, 0, 1, 0, 0, 0,\n",
       "        1, 1, 1, 0, 1, 1, 0, 0, 1, 1, 1, 0, 0, 1, 1, 1, 1, 0, 1, 1, 0, 1,\n",
       "        1, 1, 1, 1, 1, 1, 1, 0, 0, 0, 1, 0, 0, 1, 1, 1, 0, 0, 1, 0, 1, 0,\n",
       "        0, 1, 0, 0, 1, 1, 0, 1, 1, 0, 1, 1, 1, 1, 0, 1, 1, 1, 1, 1, 1, 1,\n",
       "        1, 1, 0, 1, 1, 1, 1, 0, 0, 1, 0, 1, 1, 0, 0, 1, 1, 0, 0, 1, 1, 1,\n",
       "        1, 0, 1, 1, 0, 0, 0, 1, 0, 1, 0, 1, 1, 1, 0, 1, 1, 0, 0, 1, 0, 0,\n",
       "        0, 0, 1, 0, 0, 0, 1, 0, 1, 0, 1, 1, 0, 1, 0, 0, 0, 0, 1, 1, 0, 0,\n",
       "        1, 1, 1, 0, 1, 1, 1, 1, 1, 0, 0, 1, 1, 0, 1, 1, 0, 0, 1, 0, 1, 1,\n",
       "        1, 1, 0, 1, 1, 1, 1, 1, 0, 1, 0, 0, 0, 0, 0, 0, 0, 0, 0, 0, 0, 0,\n",
       "        0, 0, 1, 1, 1, 1, 1, 1, 0, 1, 0, 1, 1, 0, 1, 1, 0, 1, 0, 0, 1, 1,\n",
       "        1, 1, 1, 1, 1, 1, 1, 1, 1, 1, 1, 0, 1, 1, 0, 1, 0, 1, 1, 1, 1, 1,\n",
       "        1, 1, 1, 1, 1, 1, 1, 1, 1, 0, 1, 1, 1, 0, 1, 0, 1, 1, 1, 1, 0, 0,\n",
       "        0, 1, 1, 1, 1, 0, 1, 0, 1, 0, 1, 1, 1, 0, 1, 1, 1, 1, 1, 1, 1, 0,\n",
       "        0, 0, 1, 1, 1, 1, 1, 1, 1, 1, 1, 1, 1, 0, 0, 1, 0, 0, 0, 1, 0, 0,\n",
       "        1, 1, 1, 1, 1, 0, 1, 1, 1, 1, 1, 0, 1, 1, 1, 0, 1, 1, 0, 0, 1, 1,\n",
       "        1, 1, 1, 1, 0, 1, 1, 1, 1, 1, 1, 1, 0, 1, 1, 1, 1, 1, 0, 1, 1, 0,\n",
       "        1, 1, 1, 1, 1, 1, 1, 1, 1, 1, 1, 1, 0, 1, 0, 0, 1, 0, 1, 1, 1, 1,\n",
       "        1, 0, 1, 1, 0, 1, 0, 1, 1, 0, 1, 0, 1, 1, 1, 1, 1, 1, 1, 1, 0, 0,\n",
       "        1, 1, 1, 1, 1, 1, 0, 1, 1, 1, 1, 1, 1, 1, 1, 1, 1, 0, 1, 1, 1, 1,\n",
       "        1, 1, 1, 0, 1, 0, 1, 1, 0, 1, 1, 1, 1, 1, 0, 0, 1, 0, 1, 0, 1, 1,\n",
       "        1, 1, 1, 0, 1, 1, 0, 1, 0, 1, 0, 0, 1, 1, 1, 0, 1, 1, 1, 1, 1, 1,\n",
       "        1, 1, 1, 1, 1, 0, 1, 0, 0, 1, 1, 1, 1, 1, 1, 1, 1, 1, 1, 1, 1, 1,\n",
       "        1, 1, 1, 1, 1, 1, 1, 1, 1, 1, 1, 1, 0, 0, 0, 0, 0, 0, 1]),\n",
       " 'frame': None,\n",
       " 'target_names': array(['malignant', 'benign'], dtype='<U9'),\n",
       " 'DESCR': '.. _breast_cancer_dataset:\\n\\nBreast cancer wisconsin (diagnostic) dataset\\n--------------------------------------------\\n\\n**Data Set Characteristics:**\\n\\n:Number of Instances: 569\\n\\n:Number of Attributes: 30 numeric, predictive attributes and the class\\n\\n:Attribute Information:\\n    - radius (mean of distances from center to points on the perimeter)\\n    - texture (standard deviation of gray-scale values)\\n    - perimeter\\n    - area\\n    - smoothness (local variation in radius lengths)\\n    - compactness (perimeter^2 / area - 1.0)\\n    - concavity (severity of concave portions of the contour)\\n    - concave points (number of concave portions of the contour)\\n    - symmetry\\n    - fractal dimension (\"coastline approximation\" - 1)\\n\\n    The mean, standard error, and \"worst\" or largest (mean of the three\\n    worst/largest values) of these features were computed for each image,\\n    resulting in 30 features.  For instance, field 0 is Mean Radius, field\\n    10 is Radius SE, field 20 is Worst Radius.\\n\\n    - class:\\n            - WDBC-Malignant\\n            - WDBC-Benign\\n\\n:Summary Statistics:\\n\\n===================================== ====== ======\\n                                        Min    Max\\n===================================== ====== ======\\nradius (mean):                        6.981  28.11\\ntexture (mean):                       9.71   39.28\\nperimeter (mean):                     43.79  188.5\\narea (mean):                          143.5  2501.0\\nsmoothness (mean):                    0.053  0.163\\ncompactness (mean):                   0.019  0.345\\nconcavity (mean):                     0.0    0.427\\nconcave points (mean):                0.0    0.201\\nsymmetry (mean):                      0.106  0.304\\nfractal dimension (mean):             0.05   0.097\\nradius (standard error):              0.112  2.873\\ntexture (standard error):             0.36   4.885\\nperimeter (standard error):           0.757  21.98\\narea (standard error):                6.802  542.2\\nsmoothness (standard error):          0.002  0.031\\ncompactness (standard error):         0.002  0.135\\nconcavity (standard error):           0.0    0.396\\nconcave points (standard error):      0.0    0.053\\nsymmetry (standard error):            0.008  0.079\\nfractal dimension (standard error):   0.001  0.03\\nradius (worst):                       7.93   36.04\\ntexture (worst):                      12.02  49.54\\nperimeter (worst):                    50.41  251.2\\narea (worst):                         185.2  4254.0\\nsmoothness (worst):                   0.071  0.223\\ncompactness (worst):                  0.027  1.058\\nconcavity (worst):                    0.0    1.252\\nconcave points (worst):               0.0    0.291\\nsymmetry (worst):                     0.156  0.664\\nfractal dimension (worst):            0.055  0.208\\n===================================== ====== ======\\n\\n:Missing Attribute Values: None\\n\\n:Class Distribution: 212 - Malignant, 357 - Benign\\n\\n:Creator:  Dr. William H. Wolberg, W. Nick Street, Olvi L. Mangasarian\\n\\n:Donor: Nick Street\\n\\n:Date: November, 1995\\n\\nThis is a copy of UCI ML Breast Cancer Wisconsin (Diagnostic) datasets.\\nhttps://goo.gl/U2Uwz2\\n\\nFeatures are computed from a digitized image of a fine needle\\naspirate (FNA) of a breast mass.  They describe\\ncharacteristics of the cell nuclei present in the image.\\n\\nSeparating plane described above was obtained using\\nMultisurface Method-Tree (MSM-T) [K. P. Bennett, \"Decision Tree\\nConstruction Via Linear Programming.\" Proceedings of the 4th\\nMidwest Artificial Intelligence and Cognitive Science Society,\\npp. 97-101, 1992], a classification method which uses linear\\nprogramming to construct a decision tree.  Relevant features\\nwere selected using an exhaustive search in the space of 1-4\\nfeatures and 1-3 separating planes.\\n\\nThe actual linear program used to obtain the separating plane\\nin the 3-dimensional space is that described in:\\n[K. P. Bennett and O. L. Mangasarian: \"Robust Linear\\nProgramming Discrimination of Two Linearly Inseparable Sets\",\\nOptimization Methods and Software 1, 1992, 23-34].\\n\\nThis database is also available through the UW CS ftp server:\\n\\nftp ftp.cs.wisc.edu\\ncd math-prog/cpo-dataset/machine-learn/WDBC/\\n\\n.. dropdown:: References\\n\\n  - W.N. Street, W.H. Wolberg and O.L. Mangasarian. Nuclear feature extraction\\n    for breast tumor diagnosis. IS&T/SPIE 1993 International Symposium on\\n    Electronic Imaging: Science and Technology, volume 1905, pages 861-870,\\n    San Jose, CA, 1993.\\n  - O.L. Mangasarian, W.N. Street and W.H. Wolberg. Breast cancer diagnosis and\\n    prognosis via linear programming. Operations Research, 43(4), pages 570-577,\\n    July-August 1995.\\n  - W.H. Wolberg, W.N. Street, and O.L. Mangasarian. Machine learning techniques\\n    to diagnose breast cancer from fine-needle aspirates. Cancer Letters 77 (1994)\\n    163-171.\\n',\n",
       " 'feature_names': array(['mean radius', 'mean texture', 'mean perimeter', 'mean area',\n",
       "        'mean smoothness', 'mean compactness', 'mean concavity',\n",
       "        'mean concave points', 'mean symmetry', 'mean fractal dimension',\n",
       "        'radius error', 'texture error', 'perimeter error', 'area error',\n",
       "        'smoothness error', 'compactness error', 'concavity error',\n",
       "        'concave points error', 'symmetry error',\n",
       "        'fractal dimension error', 'worst radius', 'worst texture',\n",
       "        'worst perimeter', 'worst area', 'worst smoothness',\n",
       "        'worst compactness', 'worst concavity', 'worst concave points',\n",
       "        'worst symmetry', 'worst fractal dimension'], dtype='<U23'),\n",
       " 'filename': 'breast_cancer.csv',\n",
       " 'data_module': 'sklearn.datasets.data'}"
      ]
     },
     "execution_count": 2,
     "metadata": {},
     "output_type": "execute_result"
    }
   ],
   "source": [
    "df = load_breast_cancer()\n",
    "df"
   ]
  },
  {
   "cell_type": "code",
   "execution_count": 3,
   "id": "2e51845b-c356-4b9c-8123-19a59efb1160",
   "metadata": {},
   "outputs": [
    {
     "data": {
      "text/plain": [
       "array([[1.799e+01, 1.038e+01, 1.228e+02, ..., 2.654e-01, 4.601e-01,\n",
       "        1.189e-01],\n",
       "       [2.057e+01, 1.777e+01, 1.329e+02, ..., 1.860e-01, 2.750e-01,\n",
       "        8.902e-02],\n",
       "       [1.969e+01, 2.125e+01, 1.300e+02, ..., 2.430e-01, 3.613e-01,\n",
       "        8.758e-02],\n",
       "       ...,\n",
       "       [1.660e+01, 2.808e+01, 1.083e+02, ..., 1.418e-01, 2.218e-01,\n",
       "        7.820e-02],\n",
       "       [2.060e+01, 2.933e+01, 1.401e+02, ..., 2.650e-01, 4.087e-01,\n",
       "        1.240e-01],\n",
       "       [7.760e+00, 2.454e+01, 4.792e+01, ..., 0.000e+00, 2.871e-01,\n",
       "        7.039e-02]])"
      ]
     },
     "execution_count": 3,
     "metadata": {},
     "output_type": "execute_result"
    }
   ],
   "source": [
    "df['data']"
   ]
  },
  {
   "cell_type": "code",
   "execution_count": 4,
   "id": "aa904633-9cc4-4042-b524-e96303a9ac2a",
   "metadata": {},
   "outputs": [
    {
     "data": {
      "text/html": [
       "<div>\n",
       "<style scoped>\n",
       "    .dataframe tbody tr th:only-of-type {\n",
       "        vertical-align: middle;\n",
       "    }\n",
       "\n",
       "    .dataframe tbody tr th {\n",
       "        vertical-align: top;\n",
       "    }\n",
       "\n",
       "    .dataframe thead th {\n",
       "        text-align: right;\n",
       "    }\n",
       "</style>\n",
       "<table border=\"1\" class=\"dataframe\">\n",
       "  <thead>\n",
       "    <tr style=\"text-align: right;\">\n",
       "      <th></th>\n",
       "      <th>mean radius</th>\n",
       "      <th>mean texture</th>\n",
       "      <th>mean perimeter</th>\n",
       "      <th>mean area</th>\n",
       "      <th>mean smoothness</th>\n",
       "      <th>mean compactness</th>\n",
       "      <th>mean concavity</th>\n",
       "      <th>mean concave points</th>\n",
       "      <th>mean symmetry</th>\n",
       "      <th>mean fractal dimension</th>\n",
       "      <th>...</th>\n",
       "      <th>worst radius</th>\n",
       "      <th>worst texture</th>\n",
       "      <th>worst perimeter</th>\n",
       "      <th>worst area</th>\n",
       "      <th>worst smoothness</th>\n",
       "      <th>worst compactness</th>\n",
       "      <th>worst concavity</th>\n",
       "      <th>worst concave points</th>\n",
       "      <th>worst symmetry</th>\n",
       "      <th>worst fractal dimension</th>\n",
       "    </tr>\n",
       "  </thead>\n",
       "  <tbody>\n",
       "    <tr>\n",
       "      <th>0</th>\n",
       "      <td>17.99</td>\n",
       "      <td>10.38</td>\n",
       "      <td>122.80</td>\n",
       "      <td>1001.0</td>\n",
       "      <td>0.11840</td>\n",
       "      <td>0.27760</td>\n",
       "      <td>0.3001</td>\n",
       "      <td>0.14710</td>\n",
       "      <td>0.2419</td>\n",
       "      <td>0.07871</td>\n",
       "      <td>...</td>\n",
       "      <td>25.38</td>\n",
       "      <td>17.33</td>\n",
       "      <td>184.60</td>\n",
       "      <td>2019.0</td>\n",
       "      <td>0.1622</td>\n",
       "      <td>0.6656</td>\n",
       "      <td>0.7119</td>\n",
       "      <td>0.2654</td>\n",
       "      <td>0.4601</td>\n",
       "      <td>0.11890</td>\n",
       "    </tr>\n",
       "    <tr>\n",
       "      <th>1</th>\n",
       "      <td>20.57</td>\n",
       "      <td>17.77</td>\n",
       "      <td>132.90</td>\n",
       "      <td>1326.0</td>\n",
       "      <td>0.08474</td>\n",
       "      <td>0.07864</td>\n",
       "      <td>0.0869</td>\n",
       "      <td>0.07017</td>\n",
       "      <td>0.1812</td>\n",
       "      <td>0.05667</td>\n",
       "      <td>...</td>\n",
       "      <td>24.99</td>\n",
       "      <td>23.41</td>\n",
       "      <td>158.80</td>\n",
       "      <td>1956.0</td>\n",
       "      <td>0.1238</td>\n",
       "      <td>0.1866</td>\n",
       "      <td>0.2416</td>\n",
       "      <td>0.1860</td>\n",
       "      <td>0.2750</td>\n",
       "      <td>0.08902</td>\n",
       "    </tr>\n",
       "    <tr>\n",
       "      <th>2</th>\n",
       "      <td>19.69</td>\n",
       "      <td>21.25</td>\n",
       "      <td>130.00</td>\n",
       "      <td>1203.0</td>\n",
       "      <td>0.10960</td>\n",
       "      <td>0.15990</td>\n",
       "      <td>0.1974</td>\n",
       "      <td>0.12790</td>\n",
       "      <td>0.2069</td>\n",
       "      <td>0.05999</td>\n",
       "      <td>...</td>\n",
       "      <td>23.57</td>\n",
       "      <td>25.53</td>\n",
       "      <td>152.50</td>\n",
       "      <td>1709.0</td>\n",
       "      <td>0.1444</td>\n",
       "      <td>0.4245</td>\n",
       "      <td>0.4504</td>\n",
       "      <td>0.2430</td>\n",
       "      <td>0.3613</td>\n",
       "      <td>0.08758</td>\n",
       "    </tr>\n",
       "    <tr>\n",
       "      <th>3</th>\n",
       "      <td>11.42</td>\n",
       "      <td>20.38</td>\n",
       "      <td>77.58</td>\n",
       "      <td>386.1</td>\n",
       "      <td>0.14250</td>\n",
       "      <td>0.28390</td>\n",
       "      <td>0.2414</td>\n",
       "      <td>0.10520</td>\n",
       "      <td>0.2597</td>\n",
       "      <td>0.09744</td>\n",
       "      <td>...</td>\n",
       "      <td>14.91</td>\n",
       "      <td>26.50</td>\n",
       "      <td>98.87</td>\n",
       "      <td>567.7</td>\n",
       "      <td>0.2098</td>\n",
       "      <td>0.8663</td>\n",
       "      <td>0.6869</td>\n",
       "      <td>0.2575</td>\n",
       "      <td>0.6638</td>\n",
       "      <td>0.17300</td>\n",
       "    </tr>\n",
       "    <tr>\n",
       "      <th>4</th>\n",
       "      <td>20.29</td>\n",
       "      <td>14.34</td>\n",
       "      <td>135.10</td>\n",
       "      <td>1297.0</td>\n",
       "      <td>0.10030</td>\n",
       "      <td>0.13280</td>\n",
       "      <td>0.1980</td>\n",
       "      <td>0.10430</td>\n",
       "      <td>0.1809</td>\n",
       "      <td>0.05883</td>\n",
       "      <td>...</td>\n",
       "      <td>22.54</td>\n",
       "      <td>16.67</td>\n",
       "      <td>152.20</td>\n",
       "      <td>1575.0</td>\n",
       "      <td>0.1374</td>\n",
       "      <td>0.2050</td>\n",
       "      <td>0.4000</td>\n",
       "      <td>0.1625</td>\n",
       "      <td>0.2364</td>\n",
       "      <td>0.07678</td>\n",
       "    </tr>\n",
       "  </tbody>\n",
       "</table>\n",
       "<p>5 rows × 30 columns</p>\n",
       "</div>"
      ],
      "text/plain": [
       "   mean radius  mean texture  mean perimeter  mean area  mean smoothness  \\\n",
       "0        17.99         10.38          122.80     1001.0          0.11840   \n",
       "1        20.57         17.77          132.90     1326.0          0.08474   \n",
       "2        19.69         21.25          130.00     1203.0          0.10960   \n",
       "3        11.42         20.38           77.58      386.1          0.14250   \n",
       "4        20.29         14.34          135.10     1297.0          0.10030   \n",
       "\n",
       "   mean compactness  mean concavity  mean concave points  mean symmetry  \\\n",
       "0           0.27760          0.3001              0.14710         0.2419   \n",
       "1           0.07864          0.0869              0.07017         0.1812   \n",
       "2           0.15990          0.1974              0.12790         0.2069   \n",
       "3           0.28390          0.2414              0.10520         0.2597   \n",
       "4           0.13280          0.1980              0.10430         0.1809   \n",
       "\n",
       "   mean fractal dimension  ...  worst radius  worst texture  worst perimeter  \\\n",
       "0                 0.07871  ...         25.38          17.33           184.60   \n",
       "1                 0.05667  ...         24.99          23.41           158.80   \n",
       "2                 0.05999  ...         23.57          25.53           152.50   \n",
       "3                 0.09744  ...         14.91          26.50            98.87   \n",
       "4                 0.05883  ...         22.54          16.67           152.20   \n",
       "\n",
       "   worst area  worst smoothness  worst compactness  worst concavity  \\\n",
       "0      2019.0            0.1622             0.6656           0.7119   \n",
       "1      1956.0            0.1238             0.1866           0.2416   \n",
       "2      1709.0            0.1444             0.4245           0.4504   \n",
       "3       567.7            0.2098             0.8663           0.6869   \n",
       "4      1575.0            0.1374             0.2050           0.4000   \n",
       "\n",
       "   worst concave points  worst symmetry  worst fractal dimension  \n",
       "0                0.2654          0.4601                  0.11890  \n",
       "1                0.1860          0.2750                  0.08902  \n",
       "2                0.2430          0.3613                  0.08758  \n",
       "3                0.2575          0.6638                  0.17300  \n",
       "4                0.1625          0.2364                  0.07678  \n",
       "\n",
       "[5 rows x 30 columns]"
      ]
     },
     "execution_count": 4,
     "metadata": {},
     "output_type": "execute_result"
    }
   ],
   "source": [
    "x = pd.DataFrame(df['data'], columns = df.feature_names)\n",
    "x.head()"
   ]
  },
  {
   "cell_type": "code",
   "execution_count": 5,
   "id": "85910a24-5538-4dc9-bea3-317b9fda060c",
   "metadata": {},
   "outputs": [],
   "source": [
    "y = df['target']"
   ]
  },
  {
   "cell_type": "code",
   "execution_count": 6,
   "id": "42b30ee3-8401-43bc-9bc0-c5cac367757c",
   "metadata": {},
   "outputs": [],
   "source": [
    "x_train, x_test, y_train, y_test = train_test_split(x,y, test_size= 0.2, random_state= 0)"
   ]
  },
  {
   "cell_type": "code",
   "execution_count": 7,
   "id": "cf5f85e4-5cb1-4ff6-aff3-0bb457cab0e0",
   "metadata": {},
   "outputs": [
    {
     "name": "stdout",
     "output_type": "stream",
     "text": [
      "              precision    recall  f1-score   support\n",
      "\n",
      "           0       0.83      0.96      0.89        47\n",
      "           1       0.97      0.87      0.91        67\n",
      "\n",
      "    accuracy                           0.90       114\n",
      "   macro avg       0.90      0.91      0.90       114\n",
      "weighted avg       0.91      0.90      0.90       114\n",
      "\n"
     ]
    }
   ],
   "source": [
    "dt_model = DecisionTreeClassifier()\n",
    "dt_model.fit(x_train, y_train)\n",
    "y_pred = dt_model.predict(x_test)\n",
    "print(classification_report(y_test, y_pred))"
   ]
  },
  {
   "cell_type": "markdown",
   "id": "2eb83760-ed7d-4eeb-8ed1-9514e5a15612",
   "metadata": {},
   "source": [
    "## **PCA (Dimensionality Reduction)**"
   ]
  },
  {
   "cell_type": "code",
   "execution_count": 27,
   "id": "08eb5abc-6dfb-4370-9bd1-714e3771c61c",
   "metadata": {},
   "outputs": [],
   "source": [
    "from sklearn.decomposition import PCA # ----> supervised, unsupervised"
   ]
  },
  {
   "cell_type": "code",
   "execution_count": 28,
   "id": "0730c94e-1175-44b3-a51d-7fdd05acbfc5",
   "metadata": {},
   "outputs": [],
   "source": [
    "pca_model = PCA(n_components= 5)\n",
    "x_train_pca = pca_model.fit_transform(x_train)\n",
    "x_test_pca = pca_model.transform(x_test)"
   ]
  },
  {
   "cell_type": "code",
   "execution_count": 29,
   "id": "34711fa3-e240-4a16-bc22-d22c1428dbd2",
   "metadata": {},
   "outputs": [
    {
     "data": {
      "text/plain": [
       "(455, 5)"
      ]
     },
     "execution_count": 29,
     "metadata": {},
     "output_type": "execute_result"
    }
   ],
   "source": [
    "x_train_pca.shape"
   ]
  },
  {
   "cell_type": "code",
   "execution_count": 30,
   "id": "01c10453-8cb3-4028-b1ef-f1e2d09a6085",
   "metadata": {},
   "outputs": [
    {
     "data": {
      "text/plain": [
       "0.9999887408181112"
      ]
     },
     "execution_count": 30,
     "metadata": {},
     "output_type": "execute_result"
    }
   ],
   "source": [
    "pca_model.explained_variance_ratio_.sum()"
   ]
  },
  {
   "cell_type": "code",
   "execution_count": 31,
   "id": "2fd95140-bb58-414a-a4a4-3348f6e3dd05",
   "metadata": {},
   "outputs": [
    {
     "name": "stdout",
     "output_type": "stream",
     "text": [
      "              precision    recall  f1-score   support\n",
      "\n",
      "           0       0.90      0.96      0.93        47\n",
      "           1       0.97      0.93      0.95        67\n",
      "\n",
      "    accuracy                           0.94       114\n",
      "   macro avg       0.93      0.94      0.94       114\n",
      "weighted avg       0.94      0.94      0.94       114\n",
      "\n"
     ]
    }
   ],
   "source": [
    "dt_model = DecisionTreeClassifier()\n",
    "dt_model.fit(x_train_pca, y_train)\n",
    "y_pred = dt_model.predict(x_test_pca)\n",
    "print(classification_report(y_test, y_pred))"
   ]
  },
  {
   "cell_type": "markdown",
   "id": "26eee08a-07eb-4cca-af7b-199d5373096d",
   "metadata": {},
   "source": [
    "## **Feature Selection**"
   ]
  },
  {
   "cell_type": "markdown",
   "id": "6a9457c3-82ad-46b0-a82b-ee4d0e00e2e0",
   "metadata": {},
   "source": [
    "### **1- Information Gain**"
   ]
  },
  {
   "cell_type": "code",
   "execution_count": 32,
   "id": "9ea51928-e6ec-4b4a-a1ec-3e14eb7c8bd3",
   "metadata": {},
   "outputs": [],
   "source": [
    "from sklearn.feature_selection import mutual_info_classif, mutual_info_regression "
   ]
  },
  {
   "cell_type": "code",
   "execution_count": 35,
   "id": "c5fd6489-1109-46e5-a6e4-25b78f6e08fb",
   "metadata": {},
   "outputs": [],
   "source": [
    "#train info gain on all data\n",
    "info_gain = mutual_info_classif(df.data, y)"
   ]
  },
  {
   "cell_type": "code",
   "execution_count": 36,
   "id": "5a159259-1817-4dbe-8422-c6adcb86633e",
   "metadata": {},
   "outputs": [
    {
     "data": {
      "text/plain": [
       "array([0.36669482, 0.09935323, 0.40314026, 0.3585625 , 0.0728826 ,\n",
       "       0.21140795, 0.37253331, 0.43864535, 0.06557657, 0.00786283,\n",
       "       0.24652257, 0.        , 0.27338504, 0.34140167, 0.01535981,\n",
       "       0.07572279, 0.11678957, 0.12766802, 0.01009603, 0.03826873,\n",
       "       0.45267808, 0.12118215, 0.47300275, 0.46487614, 0.10106338,\n",
       "       0.22497027, 0.31650826, 0.43873132, 0.08996695, 0.06835822])"
      ]
     },
     "execution_count": 36,
     "metadata": {},
     "output_type": "execute_result"
    }
   ],
   "source": [
    "info_gain"
   ]
  },
  {
   "cell_type": "code",
   "execution_count": 37,
   "id": "23ca5d00-cd10-4e1f-baf3-b07f0585912c",
   "metadata": {},
   "outputs": [
    {
     "name": "stdout",
     "output_type": "stream",
     "text": [
      "Information Gain for feature 0:,  0.36669481733590836\n",
      "Information Gain for feature 1:,  0.09935322744529951\n",
      "Information Gain for feature 2:,  0.40314025502735507\n",
      "Information Gain for feature 3:,  0.3585625023031058\n",
      "Information Gain for feature 4:,  0.07288260268293256\n",
      "Information Gain for feature 5:,  0.21140794592164602\n",
      "Information Gain for feature 6:,  0.3725333113276481\n",
      "Information Gain for feature 7:,  0.43864534513999387\n",
      "Information Gain for feature 8:,  0.06557657216593626\n",
      "Information Gain for feature 9:,  0.007862827287396401\n",
      "Information Gain for feature 10:,  0.24652256590357347\n",
      "Information Gain for feature 11:,  0.0\n",
      "Information Gain for feature 12:,  0.27338504375974493\n",
      "Information Gain for feature 13:,  0.34140167434078506\n",
      "Information Gain for feature 14:,  0.015359807828145389\n",
      "Information Gain for feature 15:,  0.07572278987600423\n",
      "Information Gain for feature 16:,  0.11678957456351924\n",
      "Information Gain for feature 17:,  0.127668019522863\n",
      "Information Gain for feature 18:,  0.010096028812360602\n",
      "Information Gain for feature 19:,  0.03826872999931252\n",
      "Information Gain for feature 20:,  0.4526780828760222\n",
      "Information Gain for feature 21:,  0.12118214679645911\n",
      "Information Gain for feature 22:,  0.47300275324066354\n",
      "Information Gain for feature 23:,  0.46487613525421057\n",
      "Information Gain for feature 24:,  0.10106338213978128\n",
      "Information Gain for feature 25:,  0.2249702677694747\n",
      "Information Gain for feature 26:,  0.3165082629446283\n",
      "Information Gain for feature 27:,  0.43873131568907264\n",
      "Information Gain for feature 28:,  0.08996695095680374\n",
      "Information Gain for feature 29:,  0.06835822478256204\n"
     ]
    }
   ],
   "source": [
    "for feature, gain in enumerate(info_gain):\n",
    "    print(f'Information Gain for feature {feature}:, ', gain)"
   ]
  },
  {
   "cell_type": "code",
   "execution_count": 43,
   "id": "23d4a77b-48f5-4333-bb05-f5ba7fcbfe4b",
   "metadata": {},
   "outputs": [
    {
     "name": "stdout",
     "output_type": "stream",
     "text": [
      "[ 7 27 20 23 22]\n"
     ]
    }
   ],
   "source": [
    "k = 5\n",
    "top_k = np.argsort(info_gain)[-k:]\n",
    "print(top_k)"
   ]
  },
  {
   "cell_type": "code",
   "execution_count": 44,
   "id": "34bd2ca1-1607-4912-85f5-45e1a3a16748",
   "metadata": {},
   "outputs": [],
   "source": [
    "x_train, x_test, y_train, y_test = train_test_split(x.values ,y, test_size= 0.2, random_state= 0)"
   ]
  },
  {
   "cell_type": "code",
   "execution_count": 45,
   "id": "4c4198ae-d4a0-4f1c-b828-092c28526858",
   "metadata": {},
   "outputs": [],
   "source": [
    "x_train_gain = x_train[:, top_k]\n",
    "x_test_gain = x_test[:, top_k]"
   ]
  },
  {
   "cell_type": "code",
   "execution_count": 46,
   "id": "104b0d80-5717-41c7-bddc-fb83f9ebe002",
   "metadata": {},
   "outputs": [
    {
     "name": "stdout",
     "output_type": "stream",
     "text": [
      "              precision    recall  f1-score   support\n",
      "\n",
      "           0       0.90      0.96      0.93        47\n",
      "           1       0.97      0.93      0.95        67\n",
      "\n",
      "    accuracy                           0.94       114\n",
      "   macro avg       0.93      0.94      0.94       114\n",
      "weighted avg       0.94      0.94      0.94       114\n",
      "\n"
     ]
    }
   ],
   "source": [
    "dt_model = DecisionTreeClassifier()\n",
    "dt_model.fit(x_train_gain, y_train)\n",
    "y_pred = dt_model.predict(x_test_gain)\n",
    "print(classification_report(y_test, y_pred))"
   ]
  },
  {
   "cell_type": "markdown",
   "id": "b4ee4ddc-6804-4eb1-8542-8cdb2267cdc9",
   "metadata": {},
   "source": [
    "### **2- Chi-square Test**"
   ]
  },
  {
   "cell_type": "code",
   "execution_count": 47,
   "id": "a8ae56b7-09c9-4894-9dbd-46e168ee03f4",
   "metadata": {},
   "outputs": [],
   "source": [
    "from sklearn.feature_selection import SelectKBest, chi2"
   ]
  },
  {
   "cell_type": "code",
   "execution_count": 49,
   "id": "367e0e93-6e6c-4950-ae30-5e0b9e1c7a1a",
   "metadata": {},
   "outputs": [],
   "source": [
    "chi_square = SelectKBest(chi2, k =5) "
   ]
  },
  {
   "cell_type": "code",
   "execution_count": 50,
   "id": "6a6d7b5b-612f-4a6b-ba17-fdcc30bb3a71",
   "metadata": {},
   "outputs": [],
   "source": [
    "x_train, x_test, y_train, y_test = train_test_split(x ,y, test_size= 0.2, random_state= 0)"
   ]
  },
  {
   "cell_type": "code",
   "execution_count": 51,
   "id": "c695346c-999c-446b-9218-7bd9c7695af0",
   "metadata": {},
   "outputs": [],
   "source": [
    "x_train_chi = chi_square.fit_transform(x_train, y_train)\n",
    "x_test_chi = chi_square.transform(x_test)"
   ]
  },
  {
   "cell_type": "code",
   "execution_count": 52,
   "id": "d2bc4243-d1a4-4201-b3d1-aacfed174ce3",
   "metadata": {},
   "outputs": [
    {
     "name": "stdout",
     "output_type": "stream",
     "text": [
      "              precision    recall  f1-score   support\n",
      "\n",
      "           0       0.92      0.94      0.93        47\n",
      "           1       0.95      0.94      0.95        67\n",
      "\n",
      "    accuracy                           0.94       114\n",
      "   macro avg       0.94      0.94      0.94       114\n",
      "weighted avg       0.94      0.94      0.94       114\n",
      "\n"
     ]
    }
   ],
   "source": [
    "dt_model = DecisionTreeClassifier()\n",
    "dt_model.fit(x_train_chi, y_train)\n",
    "y_pred = dt_model.predict(x_test_chi)\n",
    "print(classification_report(y_test, y_pred))"
   ]
  },
  {
   "cell_type": "code",
   "execution_count": 53,
   "id": "88354131-a16f-46f4-9bda-b622619cfa5d",
   "metadata": {},
   "outputs": [
    {
     "data": {
      "text/plain": [
       "array([ 2,  3, 13, 22, 23], dtype=int64)"
      ]
     },
     "execution_count": 53,
     "metadata": {},
     "output_type": "execute_result"
    }
   ],
   "source": [
    "chi_square.get_support(indices= True)"
   ]
  },
  {
   "cell_type": "code",
   "execution_count": 54,
   "id": "984f2cb0-098d-45c5-b192-b9ceeb453c77",
   "metadata": {},
   "outputs": [
    {
     "data": {
      "text/plain": [
       "array(['mean perimeter', 'mean area', 'area error', 'worst perimeter',\n",
       "       'worst area'], dtype='<U23')"
      ]
     },
     "execution_count": 54,
     "metadata": {},
     "output_type": "execute_result"
    }
   ],
   "source": [
    "df['feature_names'][chi_square.get_support(indices= True)]"
   ]
  },
  {
   "cell_type": "markdown",
   "id": "aabd745d-abfc-46b4-954e-52eedc859e01",
   "metadata": {},
   "source": [
    "### **3- Fisher's Score**"
   ]
  },
  {
   "cell_type": "code",
   "execution_count": 55,
   "id": "f932196c-e1a9-42b9-96e4-7e8b4d18ccd3",
   "metadata": {},
   "outputs": [],
   "source": [
    "from sklearn.discriminant_analysis import LinearDiscriminantAnalysis #LDA"
   ]
  },
  {
   "cell_type": "code",
   "execution_count": 57,
   "id": "dae6cfb3-90bb-4a9a-aa9a-bba80d5a66af",
   "metadata": {},
   "outputs": [],
   "source": [
    "lda = LinearDiscriminantAnalysis(n_components= 1) #n_classes - 1\n",
    "x_train_lda = lda.fit_transform(x_train, y_train) \n",
    "x_test_lda = lda.transform(x_test)"
   ]
  },
  {
   "cell_type": "code",
   "execution_count": 58,
   "id": "caa954fb-4eb0-408f-9b31-c66a82b46403",
   "metadata": {
    "scrolled": true
   },
   "outputs": [
    {
     "data": {
      "text/plain": [
       "array([[-2.07001845],\n",
       "       [-0.62082166],\n",
       "       [-0.43720889],\n",
       "       [-1.61228271],\n",
       "       [-0.74309534],\n",
       "       [-1.89632029],\n",
       "       [-0.40453781],\n",
       "       [-1.83844638],\n",
       "       [ 1.49977352],\n",
       "       [-0.60088194],\n",
       "       [ 4.02929963],\n",
       "       [-0.25609167],\n",
       "       [ 0.05771645],\n",
       "       [-2.04316215],\n",
       "       [-2.18245395],\n",
       "       [-2.31857982],\n",
       "       [ 1.99807578],\n",
       "       [-1.63157206],\n",
       "       [-1.99980507],\n",
       "       [-0.22097197],\n",
       "       [-0.16316866],\n",
       "       [-2.92878114],\n",
       "       [ 0.08925773],\n",
       "       [ 0.10009211],\n",
       "       [ 3.91842384],\n",
       "       [-2.48307566],\n",
       "       [-1.60856734],\n",
       "       [-1.1841597 ],\n",
       "       [ 4.07152369],\n",
       "       [-1.02692867],\n",
       "       [-1.64673126],\n",
       "       [ 3.10448622],\n",
       "       [-1.16113199],\n",
       "       [ 0.48822364],\n",
       "       [-1.3672863 ],\n",
       "       [-1.40757071],\n",
       "       [-1.43952906],\n",
       "       [-1.26611178],\n",
       "       [-0.69405747],\n",
       "       [-0.53417834],\n",
       "       [-2.59021546],\n",
       "       [ 1.5209398 ],\n",
       "       [-0.53716989],\n",
       "       [ 1.23218288],\n",
       "       [-1.78190376],\n",
       "       [ 3.81012922],\n",
       "       [ 3.85490257],\n",
       "       [-1.57352134],\n",
       "       [-0.99174653],\n",
       "       [ 2.42816661],\n",
       "       [-2.0540872 ],\n",
       "       [ 2.71601156],\n",
       "       [ 1.42263902],\n",
       "       [ 2.34543338],\n",
       "       [-0.38281491],\n",
       "       [-1.25466648],\n",
       "       [-2.53947497],\n",
       "       [-1.92031459],\n",
       "       [-2.52137024],\n",
       "       [-1.0141329 ],\n",
       "       [ 0.95495946],\n",
       "       [-4.04488217],\n",
       "       [-2.14898512],\n",
       "       [-1.92970516],\n",
       "       [-2.07404573],\n",
       "       [ 1.02554444],\n",
       "       [ 3.80495609],\n",
       "       [-1.0412235 ],\n",
       "       [-0.28994777],\n",
       "       [ 1.12143345],\n",
       "       [-2.41760205],\n",
       "       [-2.27135833],\n",
       "       [ 0.18820736],\n",
       "       [-1.18851961],\n",
       "       [ 3.16343407],\n",
       "       [-2.72920948],\n",
       "       [-2.25025065],\n",
       "       [ 2.48993635],\n",
       "       [ 1.78289315],\n",
       "       [-2.0030438 ],\n",
       "       [-1.49629389],\n",
       "       [ 4.98158359],\n",
       "       [ 4.23669662],\n",
       "       [-1.43077157],\n",
       "       [-0.88671001],\n",
       "       [-0.33195229],\n",
       "       [-1.04647444],\n",
       "       [-2.74554156],\n",
       "       [ 0.42591867],\n",
       "       [ 4.1731708 ],\n",
       "       [ 3.27878655],\n",
       "       [-2.31273026],\n",
       "       [-0.74836999],\n",
       "       [-2.24759115],\n",
       "       [ 3.08354742],\n",
       "       [-1.5675652 ],\n",
       "       [ 0.02537759],\n",
       "       [-2.62759304],\n",
       "       [-2.8907729 ],\n",
       "       [-2.25463713],\n",
       "       [ 3.92077979],\n",
       "       [-2.1542546 ],\n",
       "       [ 3.7526316 ],\n",
       "       [-0.50880228],\n",
       "       [ 1.66618199],\n",
       "       [-0.89554385],\n",
       "       [ 1.85311647],\n",
       "       [-1.03304261],\n",
       "       [ 1.39862158],\n",
       "       [-0.92194075],\n",
       "       [-0.93458825],\n",
       "       [-1.89444367],\n",
       "       [-0.98000364],\n",
       "       [ 2.66257191],\n",
       "       [-2.01704696],\n",
       "       [ 3.50999926],\n",
       "       [-0.08559016],\n",
       "       [-1.25779058],\n",
       "       [-1.55533897],\n",
       "       [ 3.06388703],\n",
       "       [-0.699652  ],\n",
       "       [-1.51215799],\n",
       "       [-1.19924966],\n",
       "       [ 3.03906239],\n",
       "       [-2.17079309],\n",
       "       [-0.49640685],\n",
       "       [ 1.48740019],\n",
       "       [ 1.96121076],\n",
       "       [-0.50647426],\n",
       "       [ 4.25814828],\n",
       "       [-0.44787956],\n",
       "       [ 1.95572508],\n",
       "       [-2.32118801],\n",
       "       [ 0.86697469],\n",
       "       [ 1.75284482],\n",
       "       [ 1.3886924 ],\n",
       "       [ 1.63459346],\n",
       "       [-0.04615836],\n",
       "       [-0.05614774],\n",
       "       [-2.03653326],\n",
       "       [ 4.67430678],\n",
       "       [-0.22886048],\n",
       "       [ 2.07579443],\n",
       "       [-1.33926608],\n",
       "       [ 2.78862463],\n",
       "       [-1.63823041],\n",
       "       [ 1.20587923],\n",
       "       [ 3.81683908],\n",
       "       [-0.7033879 ],\n",
       "       [-0.52633926],\n",
       "       [-2.31098588],\n",
       "       [-1.12677561],\n",
       "       [-1.79940145],\n",
       "       [ 0.07406645],\n",
       "       [-1.71889509],\n",
       "       [-2.59100521],\n",
       "       [-1.4194057 ],\n",
       "       [-1.1298229 ],\n",
       "       [-4.31606313],\n",
       "       [-1.48201769],\n",
       "       [-2.65693   ],\n",
       "       [ 3.21722988],\n",
       "       [-0.32561201],\n",
       "       [-1.87420071],\n",
       "       [-2.27582522],\n",
       "       [ 2.46012606],\n",
       "       [-1.60690419],\n",
       "       [-1.28881833],\n",
       "       [-0.31770737],\n",
       "       [-1.056903  ],\n",
       "       [-1.04890866],\n",
       "       [-1.22420861],\n",
       "       [ 4.28861094],\n",
       "       [-2.20817936],\n",
       "       [ 2.09984798],\n",
       "       [-2.05377063],\n",
       "       [-0.64193987],\n",
       "       [ 1.47610568],\n",
       "       [-1.74776584],\n",
       "       [ 2.58983155],\n",
       "       [ 1.71521635],\n",
       "       [-1.924587  ],\n",
       "       [ 1.89616573],\n",
       "       [ 3.82780749],\n",
       "       [-1.18037514],\n",
       "       [-1.19006537],\n",
       "       [ 1.12133953],\n",
       "       [-1.25250678],\n",
       "       [-2.3842944 ],\n",
       "       [-1.64837156],\n",
       "       [ 3.08514496],\n",
       "       [-2.26588426],\n",
       "       [-0.97322344],\n",
       "       [-1.33879867],\n",
       "       [-2.10751947],\n",
       "       [-0.55557892],\n",
       "       [ 3.78319775],\n",
       "       [ 1.9408966 ],\n",
       "       [-2.66462284],\n",
       "       [-1.37097384],\n",
       "       [-1.49497657],\n",
       "       [-1.3702706 ],\n",
       "       [ 0.55744434],\n",
       "       [ 3.41093788],\n",
       "       [-1.5332134 ],\n",
       "       [-1.66028572],\n",
       "       [-0.95451223],\n",
       "       [-0.86948344],\n",
       "       [ 0.49383004],\n",
       "       [-1.07228566],\n",
       "       [ 0.06251128],\n",
       "       [ 3.32330376],\n",
       "       [-0.13488149],\n",
       "       [-1.51199501],\n",
       "       [ 1.51958943],\n",
       "       [-2.42258455],\n",
       "       [ 2.09141438],\n",
       "       [-1.02446006],\n",
       "       [-0.5071352 ],\n",
       "       [-0.78888209],\n",
       "       [-1.08183695],\n",
       "       [ 3.35647707],\n",
       "       [ 3.55568246],\n",
       "       [-0.83487789],\n",
       "       [ 0.36796927],\n",
       "       [-2.02821151],\n",
       "       [ 2.45735166],\n",
       "       [-2.14629717],\n",
       "       [ 0.81529802],\n",
       "       [ 3.50115158],\n",
       "       [-0.89937828],\n",
       "       [-0.52915004],\n",
       "       [-1.82712421],\n",
       "       [ 0.62943496],\n",
       "       [-2.25025189],\n",
       "       [ 2.58716742],\n",
       "       [-0.80565416],\n",
       "       [-2.39881782],\n",
       "       [ 1.8716161 ],\n",
       "       [-0.4235104 ],\n",
       "       [-1.260068  ],\n",
       "       [ 3.79265535],\n",
       "       [ 3.53602248],\n",
       "       [-2.25253368],\n",
       "       [-0.89771065],\n",
       "       [-2.57305362],\n",
       "       [ 3.16838766],\n",
       "       [ 0.37025183],\n",
       "       [-0.33365896],\n",
       "       [-2.23239985],\n",
       "       [ 2.92993634],\n",
       "       [-2.20335813],\n",
       "       [ 0.07109602],\n",
       "       [-1.86866126],\n",
       "       [ 3.84033896],\n",
       "       [-1.47545979],\n",
       "       [ 4.08916605],\n",
       "       [-1.09195634],\n",
       "       [ 4.23034759],\n",
       "       [ 2.85193579],\n",
       "       [ 3.29870871],\n",
       "       [ 2.50329248],\n",
       "       [-0.64156634],\n",
       "       [-2.91201053],\n",
       "       [-1.3314261 ],\n",
       "       [-1.42592238],\n",
       "       [-0.14343968],\n",
       "       [ 1.6692839 ],\n",
       "       [-0.19160636],\n",
       "       [-1.49198171],\n",
       "       [-1.84731523],\n",
       "       [-1.74633473],\n",
       "       [-2.27151981],\n",
       "       [ 0.3503749 ],\n",
       "       [-2.35242557],\n",
       "       [-1.38001069],\n",
       "       [ 2.59166406],\n",
       "       [-1.340447  ],\n",
       "       [ 0.08417169],\n",
       "       [ 2.63888933],\n",
       "       [ 2.06934137],\n",
       "       [ 1.56118732],\n",
       "       [ 2.64094522],\n",
       "       [-1.24236183],\n",
       "       [-1.0511671 ],\n",
       "       [ 4.10518005],\n",
       "       [-1.67748463],\n",
       "       [-1.56240901],\n",
       "       [-2.19500957],\n",
       "       [ 2.09429925],\n",
       "       [ 1.98234192],\n",
       "       [-0.98534008],\n",
       "       [-0.38391506],\n",
       "       [-1.60326008],\n",
       "       [-1.83655599],\n",
       "       [-2.23984713],\n",
       "       [ 2.06305677],\n",
       "       [ 3.12707439],\n",
       "       [ 4.37038724],\n",
       "       [-0.20370645],\n",
       "       [ 1.88037492],\n",
       "       [ 5.00491081],\n",
       "       [-0.37134785],\n",
       "       [-0.96451774],\n",
       "       [-0.94479497],\n",
       "       [-1.6820303 ],\n",
       "       [-1.25119806],\n",
       "       [-0.28228293],\n",
       "       [ 2.07027289],\n",
       "       [-3.37733868],\n",
       "       [-1.2624616 ],\n",
       "       [-2.41625199],\n",
       "       [-0.10587675],\n",
       "       [-2.75701624],\n",
       "       [-0.4324537 ],\n",
       "       [ 4.31543213],\n",
       "       [ 3.23672774],\n",
       "       [-1.44503167],\n",
       "       [ 4.10475186],\n",
       "       [-1.38786996],\n",
       "       [ 2.2827762 ],\n",
       "       [ 0.39455202],\n",
       "       [-1.5271468 ],\n",
       "       [-1.36004058],\n",
       "       [-2.71493963],\n",
       "       [-0.09650471],\n",
       "       [-2.56483869],\n",
       "       [ 2.7622419 ],\n",
       "       [ 1.8137897 ],\n",
       "       [ 3.886273  ],\n",
       "       [-0.8875127 ],\n",
       "       [-3.12752732],\n",
       "       [ 3.16937048],\n",
       "       [ 2.52701791],\n",
       "       [-1.95194017],\n",
       "       [-0.35993949],\n",
       "       [ 0.75185481],\n",
       "       [-1.68192491],\n",
       "       [ 1.32172512],\n",
       "       [ 2.20569626],\n",
       "       [-1.56096423],\n",
       "       [ 0.27403446],\n",
       "       [-2.12493383],\n",
       "       [-1.81928704],\n",
       "       [-1.53638842],\n",
       "       [-0.37421008],\n",
       "       [-1.30651051],\n",
       "       [-2.39470187],\n",
       "       [-2.56374424],\n",
       "       [ 3.54427055],\n",
       "       [ 2.49834172],\n",
       "       [-0.79809639],\n",
       "       [-2.18585139],\n",
       "       [-1.63856318],\n",
       "       [ 2.60905834],\n",
       "       [-2.9623426 ],\n",
       "       [-0.98275467],\n",
       "       [-1.62487278],\n",
       "       [-1.22086751],\n",
       "       [ 2.9929128 ],\n",
       "       [-1.90384265],\n",
       "       [ 2.03193147],\n",
       "       [ 1.48350846],\n",
       "       [ 3.22730708],\n",
       "       [-1.31515746],\n",
       "       [ 3.72572937],\n",
       "       [-1.16426161],\n",
       "       [ 1.75135608],\n",
       "       [-1.09628856],\n",
       "       [ 1.68327361],\n",
       "       [ 3.36293539],\n",
       "       [-1.7181026 ],\n",
       "       [-1.40669984],\n",
       "       [-1.69025861],\n",
       "       [-2.54453555],\n",
       "       [-2.1544526 ],\n",
       "       [-1.38937603],\n",
       "       [-0.49615069],\n",
       "       [-2.04394035],\n",
       "       [ 4.04784827],\n",
       "       [ 3.02882258],\n",
       "       [ 2.00615142],\n",
       "       [ 0.45045748],\n",
       "       [ 3.18037282],\n",
       "       [-1.45343007],\n",
       "       [-0.85902929],\n",
       "       [-1.11868535],\n",
       "       [-1.52811729],\n",
       "       [-1.50603597],\n",
       "       [-1.28790661],\n",
       "       [-1.788275  ],\n",
       "       [ 3.02234382],\n",
       "       [-1.79198086],\n",
       "       [ 1.15077724],\n",
       "       [-0.88220731],\n",
       "       [-0.42043195],\n",
       "       [-0.67621943],\n",
       "       [-0.19597121],\n",
       "       [-1.01563574],\n",
       "       [ 4.04585473],\n",
       "       [ 1.94047726],\n",
       "       [ 2.37697994],\n",
       "       [-1.67932753],\n",
       "       [ 3.71006292],\n",
       "       [-0.89441587],\n",
       "       [-1.82588476],\n",
       "       [ 0.68245224],\n",
       "       [ 4.68044623],\n",
       "       [ 1.96506244],\n",
       "       [ 1.95946564],\n",
       "       [ 0.16756844],\n",
       "       [ 2.2636579 ],\n",
       "       [ 1.6330056 ],\n",
       "       [ 2.72971552],\n",
       "       [-2.00022015],\n",
       "       [ 4.57092502],\n",
       "       [-2.75010411],\n",
       "       [ 3.054831  ],\n",
       "       [-1.84737418],\n",
       "       [-1.03632518],\n",
       "       [ 1.93903662],\n",
       "       [ 0.38731379],\n",
       "       [-0.48740445],\n",
       "       [ 3.45903372],\n",
       "       [-2.45561844],\n",
       "       [-2.03971902],\n",
       "       [-1.8975588 ],\n",
       "       [-1.358021  ],\n",
       "       [ 2.40291772],\n",
       "       [-0.71807772],\n",
       "       [-1.48634209],\n",
       "       [ 2.89750137],\n",
       "       [-0.85844777],\n",
       "       [-0.37165317],\n",
       "       [-0.86444413],\n",
       "       [ 1.62846769],\n",
       "       [ 0.73526688],\n",
       "       [-0.22909536],\n",
       "       [-2.45315887],\n",
       "       [-0.90024148],\n",
       "       [ 4.08752432],\n",
       "       [-0.57067001],\n",
       "       [-2.44525296],\n",
       "       [ 4.62373368],\n",
       "       [-1.76601466],\n",
       "       [-0.77182021],\n",
       "       [-2.35749274],\n",
       "       [-0.48374589],\n",
       "       [-0.42097218],\n",
       "       [ 2.66117211],\n",
       "       [ 0.80361189],\n",
       "       [ 3.91926461],\n",
       "       [-1.30791073],\n",
       "       [-2.78303183],\n",
       "       [-0.94836588]])"
      ]
     },
     "execution_count": 58,
     "metadata": {},
     "output_type": "execute_result"
    }
   ],
   "source": [
    "x_train_lda"
   ]
  },
  {
   "cell_type": "code",
   "execution_count": 59,
   "id": "0e33286c-286c-4dd1-8de8-40e25dadabfd",
   "metadata": {},
   "outputs": [
    {
     "name": "stdout",
     "output_type": "stream",
     "text": [
      "              precision    recall  f1-score   support\n",
      "\n",
      "           0       0.96      0.94      0.95        47\n",
      "           1       0.96      0.97      0.96        67\n",
      "\n",
      "    accuracy                           0.96       114\n",
      "   macro avg       0.96      0.95      0.95       114\n",
      "weighted avg       0.96      0.96      0.96       114\n",
      "\n"
     ]
    }
   ],
   "source": [
    "dt_model = DecisionTreeClassifier()\n",
    "dt_model.fit(x_train_lda, y_train)\n",
    "y_pred = dt_model.predict(x_test_lda)\n",
    "print(classification_report(y_test, y_pred))"
   ]
  },
  {
   "cell_type": "markdown",
   "id": "34f8e49a-a2d1-4a5c-b4f8-81d1b468f7a6",
   "metadata": {},
   "source": [
    "### **4- Variance Threshold**"
   ]
  },
  {
   "cell_type": "code",
   "execution_count": 60,
   "id": "ff5eebe1-ce5c-40e4-bd01-16db94e494ba",
   "metadata": {},
   "outputs": [],
   "source": [
    "from sklearn.feature_selection import VarianceThreshold"
   ]
  },
  {
   "cell_type": "code",
   "execution_count": 67,
   "id": "9fa3e0ef-7497-4fa9-884a-061db3e917dd",
   "metadata": {},
   "outputs": [],
   "source": [
    "variance_threshold = VarianceThreshold(threshold=0.4)\n",
    "x_train_v = variance_threshold.fit_transform(x_train, y_train)\n",
    "x_test_v = variance_threshold.transform(x_test)"
   ]
  },
  {
   "cell_type": "code",
   "execution_count": 68,
   "id": "074f97c4-ba7a-471d-a781-629df91b4d8f",
   "metadata": {},
   "outputs": [
    {
     "name": "stdout",
     "output_type": "stream",
     "text": [
      "              precision    recall  f1-score   support\n",
      "\n",
      "           0       0.94      0.94      0.94        47\n",
      "           1       0.96      0.96      0.96        67\n",
      "\n",
      "    accuracy                           0.95       114\n",
      "   macro avg       0.95      0.95      0.95       114\n",
      "weighted avg       0.95      0.95      0.95       114\n",
      "\n"
     ]
    }
   ],
   "source": [
    "dt_model = DecisionTreeClassifier()\n",
    "dt_model.fit(x_train_v, y_train)\n",
    "y_pred = dt_model.predict(x_test_v)\n",
    "print(classification_report(y_test, y_pred))"
   ]
  },
  {
   "cell_type": "markdown",
   "id": "b5b8ba9f-6d54-436f-ab51-ea9dcd2d8501",
   "metadata": {},
   "source": [
    "### **5- The mean absolute difference (MAD)**"
   ]
  },
  {
   "cell_type": "code",
   "execution_count": 69,
   "id": "b048bfc7-324d-429a-9eb5-1031784409ae",
   "metadata": {},
   "outputs": [],
   "source": [
    "x = df.data\n",
    "def mad(x):\n",
    "    mean = np.mean(x)\n",
    "    return np.mean(np.abs(x - mean))"
   ]
  },
  {
   "cell_type": "code",
   "execution_count": 70,
   "id": "0c8282d3-e5f1-475d-bfb3-095c2a56dbde",
   "metadata": {},
   "outputs": [
    {
     "data": {
      "text/plain": [
       "array([2.75188776e+00, 3.38496465e+00, 1.90325780e+01, 2.63483384e+02,\n",
       "       1.11609886e-02, 4.11052402e-02, 6.25558942e-02, 3.14597998e-02,\n",
       "       2.11457581e-02, 5.30645353e-03, 1.89284531e-01, 4.08740215e-01,\n",
       "       1.33252531e+00, 2.71965065e+01, 2.12290566e-03, 1.31384253e-02,\n",
       "       1.86080085e-02, 4.52792317e-03, 5.81924415e-03, 1.66415113e-03,\n",
       "       3.78985656e+00, 4.91182490e+00, 2.64654371e+01, 4.23879453e+02,\n",
       "       1.79555995e-02, 1.19683744e-01, 1.64699576e-01, 5.49961343e-02,\n",
       "       4.48711210e-02, 1.34096668e-02])"
      ]
     },
     "execution_count": 70,
     "metadata": {},
     "output_type": "execute_result"
    }
   ],
   "source": [
    "mad_values = np.apply_along_axis(mad, axis = 0, arr = x)\n",
    "mad_values"
   ]
  },
  {
   "cell_type": "code",
   "execution_count": 71,
   "id": "d5e33397-ccce-4934-ba47-9535faaf1483",
   "metadata": {},
   "outputs": [],
   "source": [
    "threshold = 4\n",
    "selected_features = np.where(mad_values > threshold)[0]"
   ]
  },
  {
   "cell_type": "code",
   "execution_count": 72,
   "id": "6280f1e5-4555-4c92-869c-2c3d16297ab1",
   "metadata": {},
   "outputs": [
    {
     "data": {
      "text/plain": [
       "array([ 2,  3, 13, 21, 22, 23], dtype=int64)"
      ]
     },
     "execution_count": 72,
     "metadata": {},
     "output_type": "execute_result"
    }
   ],
   "source": [
    "selected_features"
   ]
  },
  {
   "cell_type": "code",
   "execution_count": 73,
   "id": "674c52f1-570f-4a16-b55c-3e57cd88a1ca",
   "metadata": {},
   "outputs": [
    {
     "data": {
      "text/html": [
       "<div>\n",
       "<style scoped>\n",
       "    .dataframe tbody tr th:only-of-type {\n",
       "        vertical-align: middle;\n",
       "    }\n",
       "\n",
       "    .dataframe tbody tr th {\n",
       "        vertical-align: top;\n",
       "    }\n",
       "\n",
       "    .dataframe thead th {\n",
       "        text-align: right;\n",
       "    }\n",
       "</style>\n",
       "<table border=\"1\" class=\"dataframe\">\n",
       "  <thead>\n",
       "    <tr style=\"text-align: right;\">\n",
       "      <th></th>\n",
       "      <th>mean radius</th>\n",
       "      <th>mean texture</th>\n",
       "      <th>mean perimeter</th>\n",
       "      <th>mean area</th>\n",
       "      <th>mean smoothness</th>\n",
       "      <th>mean compactness</th>\n",
       "      <th>mean concavity</th>\n",
       "      <th>mean concave points</th>\n",
       "      <th>mean symmetry</th>\n",
       "      <th>mean fractal dimension</th>\n",
       "      <th>...</th>\n",
       "      <th>worst radius</th>\n",
       "      <th>worst texture</th>\n",
       "      <th>worst perimeter</th>\n",
       "      <th>worst area</th>\n",
       "      <th>worst smoothness</th>\n",
       "      <th>worst compactness</th>\n",
       "      <th>worst concavity</th>\n",
       "      <th>worst concave points</th>\n",
       "      <th>worst symmetry</th>\n",
       "      <th>worst fractal dimension</th>\n",
       "    </tr>\n",
       "  </thead>\n",
       "  <tbody>\n",
       "    <tr>\n",
       "      <th>0</th>\n",
       "      <td>17.99</td>\n",
       "      <td>10.38</td>\n",
       "      <td>122.80</td>\n",
       "      <td>1001.0</td>\n",
       "      <td>0.11840</td>\n",
       "      <td>0.27760</td>\n",
       "      <td>0.3001</td>\n",
       "      <td>0.14710</td>\n",
       "      <td>0.2419</td>\n",
       "      <td>0.07871</td>\n",
       "      <td>...</td>\n",
       "      <td>25.38</td>\n",
       "      <td>17.33</td>\n",
       "      <td>184.60</td>\n",
       "      <td>2019.0</td>\n",
       "      <td>0.1622</td>\n",
       "      <td>0.6656</td>\n",
       "      <td>0.7119</td>\n",
       "      <td>0.2654</td>\n",
       "      <td>0.4601</td>\n",
       "      <td>0.11890</td>\n",
       "    </tr>\n",
       "    <tr>\n",
       "      <th>1</th>\n",
       "      <td>20.57</td>\n",
       "      <td>17.77</td>\n",
       "      <td>132.90</td>\n",
       "      <td>1326.0</td>\n",
       "      <td>0.08474</td>\n",
       "      <td>0.07864</td>\n",
       "      <td>0.0869</td>\n",
       "      <td>0.07017</td>\n",
       "      <td>0.1812</td>\n",
       "      <td>0.05667</td>\n",
       "      <td>...</td>\n",
       "      <td>24.99</td>\n",
       "      <td>23.41</td>\n",
       "      <td>158.80</td>\n",
       "      <td>1956.0</td>\n",
       "      <td>0.1238</td>\n",
       "      <td>0.1866</td>\n",
       "      <td>0.2416</td>\n",
       "      <td>0.1860</td>\n",
       "      <td>0.2750</td>\n",
       "      <td>0.08902</td>\n",
       "    </tr>\n",
       "    <tr>\n",
       "      <th>2</th>\n",
       "      <td>19.69</td>\n",
       "      <td>21.25</td>\n",
       "      <td>130.00</td>\n",
       "      <td>1203.0</td>\n",
       "      <td>0.10960</td>\n",
       "      <td>0.15990</td>\n",
       "      <td>0.1974</td>\n",
       "      <td>0.12790</td>\n",
       "      <td>0.2069</td>\n",
       "      <td>0.05999</td>\n",
       "      <td>...</td>\n",
       "      <td>23.57</td>\n",
       "      <td>25.53</td>\n",
       "      <td>152.50</td>\n",
       "      <td>1709.0</td>\n",
       "      <td>0.1444</td>\n",
       "      <td>0.4245</td>\n",
       "      <td>0.4504</td>\n",
       "      <td>0.2430</td>\n",
       "      <td>0.3613</td>\n",
       "      <td>0.08758</td>\n",
       "    </tr>\n",
       "    <tr>\n",
       "      <th>3</th>\n",
       "      <td>11.42</td>\n",
       "      <td>20.38</td>\n",
       "      <td>77.58</td>\n",
       "      <td>386.1</td>\n",
       "      <td>0.14250</td>\n",
       "      <td>0.28390</td>\n",
       "      <td>0.2414</td>\n",
       "      <td>0.10520</td>\n",
       "      <td>0.2597</td>\n",
       "      <td>0.09744</td>\n",
       "      <td>...</td>\n",
       "      <td>14.91</td>\n",
       "      <td>26.50</td>\n",
       "      <td>98.87</td>\n",
       "      <td>567.7</td>\n",
       "      <td>0.2098</td>\n",
       "      <td>0.8663</td>\n",
       "      <td>0.6869</td>\n",
       "      <td>0.2575</td>\n",
       "      <td>0.6638</td>\n",
       "      <td>0.17300</td>\n",
       "    </tr>\n",
       "    <tr>\n",
       "      <th>4</th>\n",
       "      <td>20.29</td>\n",
       "      <td>14.34</td>\n",
       "      <td>135.10</td>\n",
       "      <td>1297.0</td>\n",
       "      <td>0.10030</td>\n",
       "      <td>0.13280</td>\n",
       "      <td>0.1980</td>\n",
       "      <td>0.10430</td>\n",
       "      <td>0.1809</td>\n",
       "      <td>0.05883</td>\n",
       "      <td>...</td>\n",
       "      <td>22.54</td>\n",
       "      <td>16.67</td>\n",
       "      <td>152.20</td>\n",
       "      <td>1575.0</td>\n",
       "      <td>0.1374</td>\n",
       "      <td>0.2050</td>\n",
       "      <td>0.4000</td>\n",
       "      <td>0.1625</td>\n",
       "      <td>0.2364</td>\n",
       "      <td>0.07678</td>\n",
       "    </tr>\n",
       "  </tbody>\n",
       "</table>\n",
       "<p>5 rows × 30 columns</p>\n",
       "</div>"
      ],
      "text/plain": [
       "   mean radius  mean texture  mean perimeter  mean area  mean smoothness  \\\n",
       "0        17.99         10.38          122.80     1001.0          0.11840   \n",
       "1        20.57         17.77          132.90     1326.0          0.08474   \n",
       "2        19.69         21.25          130.00     1203.0          0.10960   \n",
       "3        11.42         20.38           77.58      386.1          0.14250   \n",
       "4        20.29         14.34          135.10     1297.0          0.10030   \n",
       "\n",
       "   mean compactness  mean concavity  mean concave points  mean symmetry  \\\n",
       "0           0.27760          0.3001              0.14710         0.2419   \n",
       "1           0.07864          0.0869              0.07017         0.1812   \n",
       "2           0.15990          0.1974              0.12790         0.2069   \n",
       "3           0.28390          0.2414              0.10520         0.2597   \n",
       "4           0.13280          0.1980              0.10430         0.1809   \n",
       "\n",
       "   mean fractal dimension  ...  worst radius  worst texture  worst perimeter  \\\n",
       "0                 0.07871  ...         25.38          17.33           184.60   \n",
       "1                 0.05667  ...         24.99          23.41           158.80   \n",
       "2                 0.05999  ...         23.57          25.53           152.50   \n",
       "3                 0.09744  ...         14.91          26.50            98.87   \n",
       "4                 0.05883  ...         22.54          16.67           152.20   \n",
       "\n",
       "   worst area  worst smoothness  worst compactness  worst concavity  \\\n",
       "0      2019.0            0.1622             0.6656           0.7119   \n",
       "1      1956.0            0.1238             0.1866           0.2416   \n",
       "2      1709.0            0.1444             0.4245           0.4504   \n",
       "3       567.7            0.2098             0.8663           0.6869   \n",
       "4      1575.0            0.1374             0.2050           0.4000   \n",
       "\n",
       "   worst concave points  worst symmetry  worst fractal dimension  \n",
       "0                0.2654          0.4601                  0.11890  \n",
       "1                0.1860          0.2750                  0.08902  \n",
       "2                0.2430          0.3613                  0.08758  \n",
       "3                0.2575          0.6638                  0.17300  \n",
       "4                0.1625          0.2364                  0.07678  \n",
       "\n",
       "[5 rows x 30 columns]"
      ]
     },
     "execution_count": 73,
     "metadata": {},
     "output_type": "execute_result"
    }
   ],
   "source": [
    "x = pd.DataFrame(df['data'], columns = df.feature_names)\n",
    "x.head()"
   ]
  },
  {
   "cell_type": "code",
   "execution_count": 74,
   "id": "ab87e562-74a1-4eb9-9aa8-3966bda62b6c",
   "metadata": {},
   "outputs": [],
   "source": [
    "new_x = x.iloc[:, selected_features]"
   ]
  },
  {
   "cell_type": "code",
   "execution_count": 75,
   "id": "ed63266d-e8e3-4fbb-879e-2fe4ba4a99cb",
   "metadata": {},
   "outputs": [
    {
     "data": {
      "text/html": [
       "<div>\n",
       "<style scoped>\n",
       "    .dataframe tbody tr th:only-of-type {\n",
       "        vertical-align: middle;\n",
       "    }\n",
       "\n",
       "    .dataframe tbody tr th {\n",
       "        vertical-align: top;\n",
       "    }\n",
       "\n",
       "    .dataframe thead th {\n",
       "        text-align: right;\n",
       "    }\n",
       "</style>\n",
       "<table border=\"1\" class=\"dataframe\">\n",
       "  <thead>\n",
       "    <tr style=\"text-align: right;\">\n",
       "      <th></th>\n",
       "      <th>mean perimeter</th>\n",
       "      <th>mean area</th>\n",
       "      <th>area error</th>\n",
       "      <th>worst texture</th>\n",
       "      <th>worst perimeter</th>\n",
       "      <th>worst area</th>\n",
       "    </tr>\n",
       "  </thead>\n",
       "  <tbody>\n",
       "    <tr>\n",
       "      <th>0</th>\n",
       "      <td>122.80</td>\n",
       "      <td>1001.0</td>\n",
       "      <td>153.40</td>\n",
       "      <td>17.33</td>\n",
       "      <td>184.60</td>\n",
       "      <td>2019.0</td>\n",
       "    </tr>\n",
       "    <tr>\n",
       "      <th>1</th>\n",
       "      <td>132.90</td>\n",
       "      <td>1326.0</td>\n",
       "      <td>74.08</td>\n",
       "      <td>23.41</td>\n",
       "      <td>158.80</td>\n",
       "      <td>1956.0</td>\n",
       "    </tr>\n",
       "    <tr>\n",
       "      <th>2</th>\n",
       "      <td>130.00</td>\n",
       "      <td>1203.0</td>\n",
       "      <td>94.03</td>\n",
       "      <td>25.53</td>\n",
       "      <td>152.50</td>\n",
       "      <td>1709.0</td>\n",
       "    </tr>\n",
       "    <tr>\n",
       "      <th>3</th>\n",
       "      <td>77.58</td>\n",
       "      <td>386.1</td>\n",
       "      <td>27.23</td>\n",
       "      <td>26.50</td>\n",
       "      <td>98.87</td>\n",
       "      <td>567.7</td>\n",
       "    </tr>\n",
       "    <tr>\n",
       "      <th>4</th>\n",
       "      <td>135.10</td>\n",
       "      <td>1297.0</td>\n",
       "      <td>94.44</td>\n",
       "      <td>16.67</td>\n",
       "      <td>152.20</td>\n",
       "      <td>1575.0</td>\n",
       "    </tr>\n",
       "  </tbody>\n",
       "</table>\n",
       "</div>"
      ],
      "text/plain": [
       "   mean perimeter  mean area  area error  worst texture  worst perimeter  \\\n",
       "0          122.80     1001.0      153.40          17.33           184.60   \n",
       "1          132.90     1326.0       74.08          23.41           158.80   \n",
       "2          130.00     1203.0       94.03          25.53           152.50   \n",
       "3           77.58      386.1       27.23          26.50            98.87   \n",
       "4          135.10     1297.0       94.44          16.67           152.20   \n",
       "\n",
       "   worst area  \n",
       "0      2019.0  \n",
       "1      1956.0  \n",
       "2      1709.0  \n",
       "3       567.7  \n",
       "4      1575.0  "
      ]
     },
     "execution_count": 75,
     "metadata": {},
     "output_type": "execute_result"
    }
   ],
   "source": [
    "new_x.head()"
   ]
  },
  {
   "cell_type": "code",
   "execution_count": 76,
   "id": "9dfb9150-f7b9-4dc4-80ef-cd57f594ab8c",
   "metadata": {},
   "outputs": [],
   "source": [
    "x_train, x_test, y_train, y_test = train_test_split(new_x,y, test_size= 0.25, random_state=42)"
   ]
  },
  {
   "cell_type": "code",
   "execution_count": 78,
   "id": "258bce7a-0d40-4370-b8be-6ca6e936642b",
   "metadata": {},
   "outputs": [
    {
     "name": "stdout",
     "output_type": "stream",
     "text": [
      "              precision    recall  f1-score   support\n",
      "\n",
      "           0       0.90      0.87      0.89        54\n",
      "           1       0.92      0.94      0.93        89\n",
      "\n",
      "    accuracy                           0.92       143\n",
      "   macro avg       0.91      0.91      0.91       143\n",
      "weighted avg       0.92      0.92      0.92       143\n",
      "\n"
     ]
    }
   ],
   "source": [
    "dt_model = DecisionTreeClassifier()\n",
    "dt_model.fit(x_train, y_train)\n",
    "y_pred = dt_model.predict(x_test)\n",
    "print(classification_report(y_test, y_pred))"
   ]
  },
  {
   "cell_type": "code",
   "execution_count": null,
   "id": "3740aebe-d9a7-4004-bec5-2c1409e82d89",
   "metadata": {},
   "outputs": [],
   "source": []
  }
 ],
 "metadata": {
  "kernelspec": {
   "display_name": "Python 3 (ipykernel)",
   "language": "python",
   "name": "python3"
  },
  "language_info": {
   "codemirror_mode": {
    "name": "ipython",
    "version": 3
   },
   "file_extension": ".py",
   "mimetype": "text/x-python",
   "name": "python",
   "nbconvert_exporter": "python",
   "pygments_lexer": "ipython3",
   "version": "3.9.20"
  }
 },
 "nbformat": 4,
 "nbformat_minor": 5
}
